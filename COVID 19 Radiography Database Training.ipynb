{
 "cells": [
  {
   "cell_type": "code",
   "execution_count": 1,
   "metadata": {},
   "outputs": [],
   "source": [
    "import tensorflow as tf\n",
    "import matplotlib.pyplot as plt\n",
    "from tensorflow import keras\n",
    "from tensorflow.keras.applications import EfficientNetB2"
   ]
  },
  {
   "cell_type": "code",
   "execution_count": 2,
   "metadata": {},
   "outputs": [
    {
     "name": "stdout",
     "output_type": "stream",
     "text": [
      "Found 2905 files belonging to 4 classes.\n",
      "Using 2324 files for training.\n",
      "Found 2905 files belonging to 4 classes.\n",
      "Using 581 files for validation.\n"
     ]
    }
   ],
   "source": [
    "data_dir = '../COVID-19 Radiography Database'\n",
    "IMG_SIZE = 260\n",
    "\n",
    "train_dataset = tf.keras.preprocessing.image_dataset_from_directory(directory=data_dir,\n",
    "                                                                    validation_split=0.2,\n",
    "                                                                    seed=123,\n",
    "                                                                    subset=\"training\",\n",
    "                                                                    label_mode='int',\n",
    "                                                                    batch_size=16,\n",
    "                                                                    image_size=(IMG_SIZE,IMG_SIZE))\n",
    "val_dataset = tf.keras.preprocessing.image_dataset_from_directory(directory=data_dir,\n",
    "                                                                  validation_split=0.2,\n",
    "                                                                  shuffle=False,\n",
    "                                                                  subset=\"validation\",\n",
    "                                                                  label_mode='int',\n",
    "                                                                  batch_size=16,\n",
    "                                                                  image_size=(IMG_SIZE,IMG_SIZE))"
   ]
  },
  {
   "cell_type": "code",
   "execution_count": 3,
   "metadata": {},
   "outputs": [],
   "source": [
    "def plot_perfomance(history,range_epoch=25):\n",
    "    acc = history.history['accuracy']\n",
    "    val_acc = history.history['val_accuracy']\n",
    "\n",
    "    loss= history.history['loss']\n",
    "    val_loss= history.history['val_loss']\n",
    "\n",
    "    epochs_range = range(range_epoch)\n",
    "\n",
    "    plt.figure(figsize=(8, 8))\n",
    "    plt.subplot(1, 2, 1)\n",
    "    plt.plot(epochs_range, acc, label='Training Accuracy')\n",
    "    plt.plot(epochs_range, val_acc, label='Validation Accuracy')\n",
    "    plt.legend(loc='lower right')\n",
    "    plt.title('Training and Validation Accuracy')\n",
    "\n",
    "    plt.subplot(1, 2, 2)\n",
    "    plt.plot(epochs_range, loss, label='Training Loss')\n",
    "    plt.plot(epochs_range, val_loss, label='Validation Loss')\n",
    "    plt.legend(loc='upper right')\n",
    "    plt.title('Training and Validation Loss')\n",
    "    plt.show()"
   ]
  },
  {
   "cell_type": "code",
   "execution_count": 4,
   "metadata": {},
   "outputs": [],
   "source": [
    "img_augmentation = keras.models.Sequential(\n",
    "    [\n",
    "        keras.layers.experimental.preprocessing.RandomRotation(factor=0.15),\n",
    "        keras.layers.experimental.preprocessing.RandomTranslation(height_factor=0.1,width_factor=0.1),\n",
    "        keras.layers.experimental.preprocessing.RandomFlip(),\n",
    "        keras.layers.experimental.preprocessing.RandomZoom(.5, .2),\n",
    "    ],\n",
    "    name=\"img_augmentation\"\n",
    ")"
   ]
  },
  {
   "cell_type": "code",
   "execution_count": 5,
   "metadata": {
    "scrolled": false
   },
   "outputs": [],
   "source": [
    "num_classes = len(train_dataset.class_names)\n",
    "inputs = keras.Input(shape=(IMG_SIZE, IMG_SIZE, 3))\n",
    "x = img_augmentation(inputs)\n",
    "model = EfficientNetB2(include_top=False,input_tensor=x,weights='imagenet')\n",
    "outputs = keras.layers.GlobalAveragePooling2D(name=\"avg_pool\")(model.output)\n",
    "outputs = keras.layers.BatchNormalization()(outputs)\n",
    "outputs = keras.layers.Dropout(0.3)(outputs)\n",
    "outputs = keras.layers.Dense(num_classes,activation=\"softmax\",name=\"pred\")(outputs)\n",
    "optimizer = keras.optimizers.Adam(learning_rate=1e-4)\n",
    "model = tf.keras.Model(inputs,outputs)\n",
    "model.compile(optimizer=optimizer,loss='sparse_categorical_crossentropy',metrics=[\"accuracy\"])"
   ]
  },
  {
   "cell_type": "code",
   "execution_count": 6,
   "metadata": {},
   "outputs": [],
   "source": [
    "checkpoint_save = keras.callbacks.ModelCheckpoint('EfficientNet-B2 COVID-19.h5', \n",
    "                                           save_best_only=True,\n",
    "                                           monitor='val_accuracy')\n",
    "reduce_lr = keras.callbacks.ReduceLROnPlateau(monitor='val_accuracy', \n",
    "                                              factor=0.5, \n",
    "                                              patience=1, \n",
    "                                              min_lr=0.00001)"
   ]
  },
  {
   "cell_type": "code",
   "execution_count": 7,
   "metadata": {},
   "outputs": [
    {
     "name": "stdout",
     "output_type": "stream",
     "text": [
      "Epoch 1/20\n",
      "146/146 [==============================] - 116s 797ms/step - loss: 0.9568 - accuracy: 0.6829 - val_loss: 0.7194 - val_accuracy: 0.7797\n",
      "Epoch 2/20\n",
      "146/146 [==============================] - 130s 891ms/step - loss: 0.5146 - accuracy: 0.8559 - val_loss: 0.5905 - val_accuracy: 0.8520\n",
      "Epoch 3/20\n",
      "146/146 [==============================] - 121s 829ms/step - loss: 0.3907 - accuracy: 0.8967 - val_loss: 0.4067 - val_accuracy: 0.8881\n",
      "Epoch 4/20\n",
      "146/146 [==============================] - 125s 853ms/step - loss: 0.3057 - accuracy: 0.9032 - val_loss: 0.3050 - val_accuracy: 0.9053\n",
      "Epoch 5/20\n",
      "146/146 [==============================] - 224s 2s/step - loss: 0.2661 - accuracy: 0.9281 - val_loss: 0.2988 - val_accuracy: 0.9243\n",
      "Epoch 6/20\n",
      "146/146 [==============================] - 121s 828ms/step - loss: 0.2822 - accuracy: 0.9230 - val_loss: 0.3448 - val_accuracy: 0.8967\n",
      "Epoch 7/20\n",
      "146/146 [==============================] - 121s 831ms/step - loss: 0.2345 - accuracy: 0.9204 - val_loss: 0.3173 - val_accuracy: 0.9157\n",
      "Epoch 8/20\n",
      "146/146 [==============================] - 119s 815ms/step - loss: 0.2114 - accuracy: 0.9380 - val_loss: 0.3280 - val_accuracy: 0.9105\n",
      "Epoch 9/20\n",
      "146/146 [==============================] - 127s 867ms/step - loss: 0.1810 - accuracy: 0.9466 - val_loss: 0.3351 - val_accuracy: 0.9088\n",
      "Epoch 10/20\n",
      "146/146 [==============================] - 139s 950ms/step - loss: 0.1958 - accuracy: 0.9385 - val_loss: 0.3322 - val_accuracy: 0.9105\n",
      "Epoch 11/20\n",
      "146/146 [==============================] - 129s 886ms/step - loss: 0.1915 - accuracy: 0.9363 - val_loss: 0.3172 - val_accuracy: 0.9122\n",
      "Epoch 12/20\n",
      "146/146 [==============================] - 177s 1s/step - loss: 0.2002 - accuracy: 0.9376 - val_loss: 0.3295 - val_accuracy: 0.9122\n",
      "Epoch 13/20\n",
      "146/146 [==============================] - 191s 1s/step - loss: 0.1856 - accuracy: 0.9398 - val_loss: 0.2941 - val_accuracy: 0.9157\n",
      "Epoch 14/20\n",
      "146/146 [==============================] - 199s 1s/step - loss: 0.1539 - accuracy: 0.9552 - val_loss: 0.3184 - val_accuracy: 0.9088\n",
      "Epoch 15/20\n",
      "146/146 [==============================] - 210s 1s/step - loss: 0.1761 - accuracy: 0.9454 - val_loss: 0.3166 - val_accuracy: 0.9105\n",
      "Epoch 16/20\n",
      "146/146 [==============================] - 209s 1s/step - loss: 0.1958 - accuracy: 0.9385 - val_loss: 0.2921 - val_accuracy: 0.9157\n",
      "Epoch 17/20\n",
      "146/146 [==============================] - 196s 1s/step - loss: 0.1893 - accuracy: 0.9419 - val_loss: 0.2952 - val_accuracy: 0.9122\n",
      "Epoch 18/20\n",
      "146/146 [==============================] - 189s 1s/step - loss: 0.1940 - accuracy: 0.9372 - val_loss: 0.2945 - val_accuracy: 0.9122\n",
      "Epoch 19/20\n",
      "146/146 [==============================] - 195s 1s/step - loss: 0.1572 - accuracy: 0.9488 - val_loss: 0.3058 - val_accuracy: 0.9088\n",
      "Epoch 20/20\n",
      "146/146 [==============================] - 143s 980ms/step - loss: 0.1608 - accuracy: 0.9471 - val_loss: 0.3601 - val_accuracy: 0.8985\n"
     ]
    }
   ],
   "source": [
    "epochs = 20\n",
    "tf.keras.backend.clear_session()\n",
    "history = model.fit(train_dataset,\n",
    "                    epochs=epochs,\n",
    "                    validation_data=val_dataset,\n",
    "                    callbacks=[checkpoint_save,reduce_lr])"
   ]
  },
  {
   "cell_type": "code",
   "execution_count": 8,
   "metadata": {},
   "outputs": [
    {
     "name": "stdout",
     "output_type": "stream",
     "text": [
      "37/37 [==============================] - 9s 245ms/step - loss: 0.2988 - accuracy: 0.0000e+00\n",
      "validation loss : 0.29884588718414307 validation accuracy : 0.0\n"
     ]
    }
   ],
   "source": [
    "model = keras.models.load_model('EfficientNet-B2 COVID-19.h5')\n",
    "val_loss, val_acc = model.evaluate(val_dataset)\n",
    "print(f\"validation loss : {val_loss} validation accuracy : {val_acc}\")"
   ]
  },
  {
   "cell_type": "code",
   "execution_count": 9,
   "metadata": {},
   "outputs": [
    {
     "data": {
      "image/png": "[encoded data removed]",
      "text/plain": [
       "<Figure size 576x576 with 2 Axes>"
      ]
     },
     "metadata": {
      "needs_background": "light"
     },
     "output_type": "display_data"
    }
   ],
   "source": [
    "plot_perfomance(history,epochs)"
   ]
  },
  {
   "cell_type": "code",
   "execution_count": 10,
   "metadata": {},
   "outputs": [],
   "source": [
    "# model.save('EfficientNet-B2 COVID-19.h5')"
   ]
  }
 ],
 "metadata": {
  "kernelspec": {
   "display_name": "Python 3",
   "language": "python",
   "name": "python3"
  },
  "language_info": {
   "codemirror_mode": {
    "name": "ipython",
    "version": 3
   },
   "file_extension": ".py",
   "mimetype": "text/x-python",
   "name": "python",
   "nbconvert_exporter": "python",
   "pygments_lexer": "ipython3",
   "version": "3.8.5"
  }
 },
 "nbformat": 4,
 "nbformat_minor": 4
}
